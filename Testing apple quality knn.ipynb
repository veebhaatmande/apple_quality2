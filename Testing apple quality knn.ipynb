{
 "cells": [
  {
   "cell_type": "code",
   "execution_count": 1,
   "id": "f1956af2-ff18-4248-b71b-bf3d1a6e8b07",
   "metadata": {},
   "outputs": [],
   "source": [
    "import numpy as np\n",
    "import pickle\n",
    "import warnings\n",
    "warnings.filterwarnings('ignore')"
   ]
  },
  {
   "cell_type": "code",
   "execution_count": 2,
   "id": "4c1d4d7b-7048-4745-98e4-11b2919d9572",
   "metadata": {},
   "outputs": [],
   "source": [
    "with open(\"knn.pkl\", 'rb') as f:\n",
    "    model = pickle.load(f)"
   ]
  },
  {
   "cell_type": "code",
   "execution_count": 3,
   "id": "6f800a28-542b-4189-95f1-92c5e7959db5",
   "metadata": {},
   "outputs": [],
   "source": [
    "col_names = model.feature_names_in_"
   ]
  },
  {
   "cell_type": "markdown",
   "id": "80841e63-1391-49e3-ae54-3503b3e6b5b2",
   "metadata": {},
   "source": [
    "### User Data"
   ]
  },
  {
   "cell_type": "code",
   "execution_count": 4,
   "id": "8640e8ef-6515-4230-b4bf-8c2f54cffa06",
   "metadata": {},
   "outputs": [
    {
     "name": "stdout",
     "output_type": "stream",
     "text": [
      "predicted_Quality : 1\n"
     ]
    }
   ],
   "source": [
    "Size = 1.65\n",
    "Weight = 1.94\n",
    "Sweetness = 2.50\n",
    "Crunchiness = 1.23\n",
    "Juiciness = 3.80\n",
    "Ripeness = 4.30\n",
    "Acidity = 2.83\n",
    "\n",
    "\n",
    "\n",
    "test_array = np.zeros((1,model.n_features_in_))\n",
    "test_array[0,0] = Size\n",
    "test_array[0,1] = Weight\n",
    "test_array[0,2] = Sweetness\n",
    "test_array[0,3] = Crunchiness\n",
    "test_array[0,4] = Juiciness\n",
    "test_array[0,5] = Ripeness\n",
    "test_array[0,6] = Acidity\n",
    "\n",
    "\n",
    "predicted_Quality = model.predict(test_array)[0]\n",
    "print(\"predicted_Quality :\",predicted_Quality)"
   ]
  },
  {
   "cell_type": "code",
   "execution_count": 5,
   "id": "93ac13c1-041b-4853-b586-b56dfed22e4c",
   "metadata": {},
   "outputs": [
    {
     "name": "stdout",
     "output_type": "stream",
     "text": [
      "predicted_Quality : 0\n"
     ]
    }
   ],
   "source": [
    "Size = -5.65\n",
    "Weight = 0.94\n",
    "Sweetness = 1.50\n",
    "Crunchiness = -0.23\n",
    "Juiciness = 0.80\n",
    "Ripeness = 1.30\n",
    "Acidity = 3.83\n",
    "\n",
    "\n",
    "\n",
    "test_array = np.zeros((1,model.n_features_in_))\n",
    "test_array[0,0] = Size\n",
    "test_array[0,1] = Weight\n",
    "test_array[0,2] = Sweetness\n",
    "test_array[0,3] = Crunchiness\n",
    "test_array[0,4] = Juiciness\n",
    "test_array[0,5] = Ripeness\n",
    "test_array[0,6] = Acidity\n",
    "\n",
    "\n",
    "predicted_Quality = model.predict(test_array)[0]\n",
    "print(\"predicted_Quality :\",predicted_Quality)"
   ]
  },
  {
   "cell_type": "code",
   "execution_count": 6,
   "id": "ddd19ba0-8087-4711-916a-9f299b9ef4ed",
   "metadata": {},
   "outputs": [
    {
     "name": "stdout",
     "output_type": "stream",
     "text": [
      "predicted_Quality : 1\n"
     ]
    }
   ],
   "source": [
    "Size = -3.970049\n",
    "Weight =2.512336\n",
    "Sweetness = 5.346330\n",
    "Crunchiness =-0.23\n",
    "Juiciness = 1.844900\n",
    "Ripeness = 0.329840\n",
    "Acidity = -0.491590\n",
    "\n",
    "\n",
    "\n",
    "test_array = np.zeros((1,model.n_features_in_))\n",
    "test_array[0,0] = Size\n",
    "test_array[0,1] = Weight\n",
    "test_array[0,2] = Sweetness\n",
    "test_array[0,3] = Crunchiness\n",
    "test_array[0,4] = Juiciness\n",
    "test_array[0,5] = Ripeness\n",
    "test_array[0,6] = Acidity\n",
    "\n",
    "\n",
    "predicted_Quality = model.predict(test_array)[0]\n",
    "print(\"predicted_Quality :\",predicted_Quality)"
   ]
  },
  {
   "cell_type": "code",
   "execution_count": null,
   "id": "0147ff4b-4f34-4bbd-9249-c7c0517877aa",
   "metadata": {},
   "outputs": [],
   "source": []
  },
  {
   "cell_type": "code",
   "execution_count": null,
   "id": "6e7926b3-b8fc-45d0-b47b-eee78b0a834a",
   "metadata": {},
   "outputs": [],
   "source": []
  }
 ],
 "metadata": {
  "kernelspec": {
   "display_name": "Python 3 (ipykernel)",
   "language": "python",
   "name": "python3"
  },
  "language_info": {
   "codemirror_mode": {
    "name": "ipython",
    "version": 3
   },
   "file_extension": ".py",
   "mimetype": "text/x-python",
   "name": "python",
   "nbconvert_exporter": "python",
   "pygments_lexer": "ipython3",
   "version": "3.11.7"
  }
 },
 "nbformat": 4,
 "nbformat_minor": 5
}
